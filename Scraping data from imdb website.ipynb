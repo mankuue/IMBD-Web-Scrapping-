{
 "cells": [
  {
   "cell_type": "markdown",
   "id": "52327013",
   "metadata": {},
   "source": [
    "# Top 250 IMDB Movies"
   ]
  },
  {
   "cell_type": "code",
   "execution_count": 13,
   "id": "c1ae2264",
   "metadata": {},
   "outputs": [],
   "source": [
    "import pandas as pd \n",
    "import requests\n",
    "from bs4 import BeautifulSoup\n",
    "\n",
    "url = 'https://www.imdb.com/chart/top/'\n",
    "\n",
    "#As the server refuse to authorize request so created user header\n",
    "headers = {'User-Agent': 'Mozilla/5.0 (Windows NT 10.0; Win64; x64) AppleWebKit/537.36 (KHTML, like Gecko) Chrome/91.0.4472.124 Safari/537.36'}\n",
    "\n",
    "response = requests.get(url, headers=headers)\n",
    "\n",
    "if response.status_code == 200:\n",
    "    soup = BeautifulSoup(response.text, 'html.parser')\n",
    "    \n",
    "    # Find the movie containers\n",
    "    containers = soup.find_all('li', class_ = 'ipc-metadata-list-summary-item')\n",
    "    \n",
    "    # Lists to store Movie Title, Stars, and Ratings, Release Year\n",
    "    movie_title = []\n",
    "    movie_stars = []\n",
    "    movie_ratings = []\n",
    "    release_year = []\n",
    "    movie_duration = []\n",
    "    movie_url = []\n",
    "    \n",
    "    # Extract Movie information\n",
    "    for container in containers:\n",
    "        #Extracting movie title\n",
    "        title = container.find('h3', class_ = 'ipc-title__text').text.strip().split('.')[1]\n",
    "        movie_title.append(title)\n",
    "\n",
    "        #Extracting movie stars\n",
    "        stars = container.find('span', class_ = 'sc-479faa3c-1 iMRvgp').text.strip()[0:3]\n",
    "        movie_stars.append(stars)\n",
    "\n",
    "        #Extracting moview ratings\n",
    "        ratings = container.find('span', class_ = 'ipc-rating-star--voteCount').text.strip().replace('(','').replace(')','').replace('K', '000').replace('M', '00000').replace('.','')\n",
    "        movie_ratings.append(ratings)\n",
    "\n",
    "        #Extracting movie release year\n",
    "        year = container.find('span', class_ = 'sc-479faa3c-8 bNrEFi cli-title-metadata-item').text\n",
    "        release_year.append(year)\n",
    "\n",
    "        #Extracting movie duration \n",
    "        duration = container.find_all(\"span\",class_= \"sc-479faa3c-8 bNrEFi cli-title-metadata-item\")[1].text\n",
    "        movie_duration.append(duration)\n",
    "\n",
    "        #Extracting movieURL \n",
    "        url = container.find('a', class_ = 'ipc-title-link-wrapper').get('href')\n",
    "        domain = 'https://www.imdb.com'\n",
    "        url_link = domain + url\n",
    "        movie_url.append(url_link)\n",
    "        \n",
    "        \n",
    "    df= {\"movie_title\": movie_title,\n",
    "         \"movie_stars\": movie_stars,\n",
    "         \"movie_ratings\": movie_ratings,\n",
    "         \"release_year\": release_year,\n",
    "         \"movie_duration\": movie_duration,\n",
    "         \"movie_url\": movie_url\n",
    "        }\n",
    "\n",
    "    data = pd.DataFrame(df)\n",
    "    data.to_csv(\"IMBD_Data.csv\", index = False)\n",
    "\n",
    "\n",
    "else:\n",
    "    print(f\"Error: {response.status_code}\")"
   ]
  },
  {
   "cell_type": "code",
   "execution_count": null,
   "id": "909056af",
   "metadata": {},
   "outputs": [],
   "source": []
  },
  {
   "cell_type": "code",
   "execution_count": null,
   "id": "d4335d4b",
   "metadata": {},
   "outputs": [],
   "source": []
  }
 ],
 "metadata": {
  "kernelspec": {
   "display_name": "Python 3 (ipykernel)",
   "language": "python",
   "name": "python3"
  },
  "language_info": {
   "codemirror_mode": {
    "name": "ipython",
    "version": 3
   },
   "file_extension": ".py",
   "mimetype": "text/x-python",
   "name": "python",
   "nbconvert_exporter": "python",
   "pygments_lexer": "ipython3",
   "version": "3.9.13"
  }
 },
 "nbformat": 4,
 "nbformat_minor": 5
}
